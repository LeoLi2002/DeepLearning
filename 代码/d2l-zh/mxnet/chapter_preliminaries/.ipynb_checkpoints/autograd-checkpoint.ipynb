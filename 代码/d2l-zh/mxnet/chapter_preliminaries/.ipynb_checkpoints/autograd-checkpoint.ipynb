{
 "cells": [
  {
   "cell_type": "markdown",
   "id": "42d65c0b",
   "metadata": {
    "origin_pos": 0
   },
   "source": [
    "# 自动微分\n",
    ":label:`sec_autograd`\n",
    "\n",
    "正如我们在 :numref:`sec_calculus`中所说的那样，求导是几乎所有深度学习优化算法的关键步骤。\n",
    "虽然求导的计算很简单，只需要一些基本的微积分。\n",
    "但对于复杂的模型，手工进行更新是一件很痛苦的事情（而且经常容易出错）。\n",
    "\n",
    "深度学习框架通过自动计算导数，即*自动微分*（automatic differentiation）来加快求导。\n",
    "实际中，根据我们设计的模型，系统会构建一个*计算图*（computational graph），\n",
    "来跟踪计算是哪些数据通过哪些操作组合起来产生输出。\n",
    "自动微分使系统能够随后反向传播梯度。\n",
    "这里，*反向传播*（backpropagate）意味着跟踪整个计算图，填充关于每个参数的偏导数。\n",
    "\n",
    "## 一个简单的例子\n",
    "\n",
    "作为一个演示例子，(**假设我们想对函数$y=2\\mathbf{x}^{\\top}\\mathbf{x}$关于列向量$\\mathbf{x}$求导**)。\n",
    "首先，我们创建变量`x`并为其分配一个初始值。\n"
   ]
  },
  {
   "cell_type": "code",
   "execution_count": 1,
   "id": "b87f9504",
   "metadata": {
    "execution": {
     "iopub.execute_input": "2022-07-31T00:52:24.411316Z",
     "iopub.status.busy": "2022-07-31T00:52:24.410539Z",
     "iopub.status.idle": "2022-07-31T00:52:26.033214Z",
     "shell.execute_reply": "2022-07-31T00:52:26.032150Z"
    },
    "origin_pos": 1,
    "tab": [
     "mxnet"
    ]
   },
   "outputs": [
    {
     "data": {
      "text/plain": [
       "array([0., 1., 2., 3.])"
      ]
     },
     "execution_count": 1,
     "metadata": {},
     "output_type": "execute_result"
    }
   ],
   "source": [
    "from mxnet import autograd, np, npx\n",
    "\n",
    "npx.set_np()\n",
    "\n",
    "x = np.arange(4.0)\n",
    "x"
   ]
  },
  {
   "cell_type": "markdown",
   "id": "8c3cb5ec",
   "metadata": {
    "origin_pos": 4
   },
   "source": [
    "[**在我们计算$y$关于$\\mathbf{x}$的梯度之前，我们需要一个地方来存储梯度。**]\n",
    "重要的是，我们不会在每次对一个参数求导时都分配新的内存。\n",
    "因为我们经常会成千上万次地更新相同的参数，每次都分配新的内存可能很快就会将内存耗尽。\n",
    "注意，一个标量函数关于向量$\\mathbf{x}$的梯度是向量，并且与$\\mathbf{x}$具有相同的形状。\n"
   ]
  },
  {
   "cell_type": "code",
   "execution_count": 2,
   "id": "c5455d87",
   "metadata": {
    "execution": {
     "iopub.execute_input": "2022-07-31T00:52:26.037453Z",
     "iopub.status.busy": "2022-07-31T00:52:26.036769Z",
     "iopub.status.idle": "2022-07-31T00:52:26.043766Z",
     "shell.execute_reply": "2022-07-31T00:52:26.043158Z"
    },
    "origin_pos": 5,
    "tab": [
     "mxnet"
    ]
   },
   "outputs": [
    {
     "data": {
      "text/plain": [
       "array([0., 0., 0., 0.])"
      ]
     },
     "execution_count": 2,
     "metadata": {},
     "output_type": "execute_result"
    }
   ],
   "source": [
    "# 我们通过调用attach_grad来为一个张量的梯度分配内存\n",
    "x.attach_grad()\n",
    "# 在我们计算关于x的梯度后，我们将能够通过'grad'属性访问它，它的值被初始化为0\n",
    "x.grad"
   ]
  },
  {
   "cell_type": "markdown",
   "id": "58b7b589",
   "metadata": {
    "origin_pos": 8
   },
   "source": [
    "(**现在让我们计算$y$。**)\n"
   ]
  },
  {
   "cell_type": "code",
   "execution_count": 3,
   "id": "8c18c347",
   "metadata": {
    "execution": {
     "iopub.execute_input": "2022-07-31T00:52:26.046551Z",
     "iopub.status.busy": "2022-07-31T00:52:26.046335Z",
     "iopub.status.idle": "2022-07-31T00:52:26.059930Z",
     "shell.execute_reply": "2022-07-31T00:52:26.058664Z"
    },
    "origin_pos": 9,
    "tab": [
     "mxnet"
    ]
   },
   "outputs": [
    {
     "data": {
      "text/plain": [
       "array(28.)"
      ]
     },
     "execution_count": 3,
     "metadata": {},
     "output_type": "execute_result"
    }
   ],
   "source": [
    "# 把代码放到autograd.record内，以建立计算图\n",
    "with autograd.record():\n",
    "    y = 2 * np.dot(x, x)\n",
    "y"
   ]
  },
  {
   "cell_type": "markdown",
   "id": "cd426437",
   "metadata": {
    "origin_pos": 12
   },
   "source": [
    "`x`是一个长度为4的向量，计算`x`和`x`的点积，得到了我们赋值给`y`的标量输出。\n",
    "接下来，我们[**通过调用反向传播函数来自动计算`y`关于`x`每个分量的梯度**]，并打印这些梯度。\n"
   ]
  },
  {
   "cell_type": "code",
   "execution_count": 4,
   "id": "667c698f",
   "metadata": {
    "execution": {
     "iopub.execute_input": "2022-07-31T00:52:26.065927Z",
     "iopub.status.busy": "2022-07-31T00:52:26.064826Z",
     "iopub.status.idle": "2022-07-31T00:52:26.160435Z",
     "shell.execute_reply": "2022-07-31T00:52:26.159626Z"
    },
    "origin_pos": 13,
    "tab": [
     "mxnet"
    ]
   },
   "outputs": [
    {
     "data": {
      "text/plain": [
       "array([ 0.,  4.,  8., 12.])"
      ]
     },
     "execution_count": 4,
     "metadata": {},
     "output_type": "execute_result"
    }
   ],
   "source": [
    "y.backward()\n",
    "x.grad"
   ]
  },
  {
   "cell_type": "markdown",
   "id": "38ab5295",
   "metadata": {
    "origin_pos": 16
   },
   "source": [
    "函数$y=2\\mathbf{x}^{\\top}\\mathbf{x}$关于$\\mathbf{x}$的梯度应为$4\\mathbf{x}$。\n",
    "让我们快速验证这个梯度是否计算正确。\n"
   ]
  },
  {
   "cell_type": "code",
   "execution_count": 5,
   "id": "d98ead47",
   "metadata": {
    "execution": {
     "iopub.execute_input": "2022-07-31T00:52:26.165474Z",
     "iopub.status.busy": "2022-07-31T00:52:26.164780Z",
     "iopub.status.idle": "2022-07-31T00:52:26.175683Z",
     "shell.execute_reply": "2022-07-31T00:52:26.174835Z"
    },
    "origin_pos": 17,
    "tab": [
     "mxnet"
    ]
   },
   "outputs": [
    {
     "data": {
      "text/plain": [
       "array([ True,  True,  True,  True])"
      ]
     },
     "execution_count": 5,
     "metadata": {},
     "output_type": "execute_result"
    }
   ],
   "source": [
    "x.grad == 4 * x"
   ]
  },
  {
   "cell_type": "markdown",
   "id": "7294517e",
   "metadata": {
    "origin_pos": 20
   },
   "source": [
    "[**现在让我们计算`x`的另一个函数。**]\n"
   ]
  },
  {
   "cell_type": "code",
   "execution_count": 6,
   "id": "aaf0869d",
   "metadata": {
    "execution": {
     "iopub.execute_input": "2022-07-31T00:52:26.179702Z",
     "iopub.status.busy": "2022-07-31T00:52:26.179048Z",
     "iopub.status.idle": "2022-07-31T00:52:26.197457Z",
     "shell.execute_reply": "2022-07-31T00:52:26.196619Z"
    },
    "origin_pos": 21,
    "tab": [
     "mxnet"
    ]
   },
   "outputs": [
    {
     "data": {
      "text/plain": [
       "array([1., 1., 1., 1.])"
      ]
     },
     "execution_count": 6,
     "metadata": {},
     "output_type": "execute_result"
    }
   ],
   "source": [
    "with autograd.record():\n",
    "    y = x.sum()\n",
    "y.backward()\n",
    "x.grad  # 被新计算的梯度覆盖"
   ]
  },
  {
   "cell_type": "markdown",
   "id": "0d712442",
   "metadata": {
    "origin_pos": 24
   },
   "source": [
    "## 非标量变量的反向传播\n",
    "\n",
    "当`y`不是标量时，向量`y`关于向量`x`的导数的最自然解释是一个矩阵。\n",
    "对于高阶和高维的`y`和`x`，求导的结果可以是一个高阶张量。\n",
    "\n",
    "然而，虽然这些更奇特的对象确实出现在高级机器学习中（包括[**深度学习中**]），\n",
    "但当我们调用向量的反向计算时，我们通常会试图计算一批训练样本中每个组成部分的损失函数的导数。\n",
    "这里(**，我们的目的不是计算微分矩阵，而是单独计算批量中每个样本的偏导数之和。**)\n"
   ]
  },
  {
   "cell_type": "code",
   "execution_count": 11,
   "id": "8686dab5",
   "metadata": {
    "execution": {
     "iopub.execute_input": "2022-07-31T00:52:26.201856Z",
     "iopub.status.busy": "2022-07-31T00:52:26.201209Z",
     "iopub.status.idle": "2022-07-31T00:52:26.214250Z",
     "shell.execute_reply": "2022-07-31T00:52:26.213547Z"
    },
    "origin_pos": 25,
    "tab": [
     "mxnet"
    ]
   },
   "outputs": [
    {
     "data": {
      "text/plain": [
       "array([0., 2., 4., 6.])"
      ]
     },
     "execution_count": 11,
     "metadata": {},
     "output_type": "execute_result"
    }
   ],
   "source": [
    "# 当我们对向量值变量y（关于x的函数）调用backward时，将通过对y中的元素求和来创建\n",
    "# 一个新的标量变量。然后计算这个标量变量相对于x的梯度\n",
    "with autograd.record():\n",
    "    y = x * x  # y是一个向量\n",
    "y.backward()\n",
    "x.grad  # 等价于y=sum(x*x)"
   ]
  },
  {
   "cell_type": "markdown",
   "id": "9aaffb45",
   "metadata": {
    "origin_pos": 28
   },
   "source": [
    "## 分离计算\n",
    "\n",
    "有时，我们希望[**将某些计算移动到记录的计算图之外**]。\n",
    "例如，假设`y`是作为`x`的函数计算的，而`z`则是作为`y`和`x`的函数计算的， 即`z`(`x`, `y`) = `z`(`x`, `y`(`x`))。\n",
    "想象一下，我们想计算`z`关于`x`的梯度，但由于某种原因，我们希望将`y`视为一个常数，\n",
    "并且只考虑到`x`在`y`被计算后发挥的作用(就是计算z对x的骗偏导数)。\n",
    "\n",
    "在这里，我们可以分离`y`来返回一个新变量`u`，该变量与`y`具有相同的值，\n",
    "但丢弃计算图中如何计算`y`的任何信息。\n",
    "换句话说，梯度不会向后流经`u`到`x`。\n",
    "因此，下面的反向传播函数计算`z=u*x`关于`x`的偏导数，同时将`u`作为常数处理，\n",
    "而不是`z=x*x*x`关于`x`的偏导数。\n"
   ]
  },
  {
   "cell_type": "code",
   "execution_count": 8,
   "id": "2b6e8d7f",
   "metadata": {
    "execution": {
     "iopub.execute_input": "2022-07-31T00:52:26.218531Z",
     "iopub.status.busy": "2022-07-31T00:52:26.218280Z",
     "iopub.status.idle": "2022-07-31T00:52:26.244595Z",
     "shell.execute_reply": "2022-07-31T00:52:26.243794Z"
    },
    "origin_pos": 29,
    "tab": [
     "mxnet"
    ]
   },
   "outputs": [
    {
     "data": {
      "text/plain": [
       "array([ True,  True,  True,  True])"
      ]
     },
     "execution_count": 8,
     "metadata": {},
     "output_type": "execute_result"
    }
   ],
   "source": [
    "with autograd.record():\n",
    "    y = x * x\n",
    "    u = y.detach()\n",
    "    z = u * x\n",
    "z.backward()\n",
    "x.grad == u"
   ]
  },
  {
   "cell_type": "markdown",
   "id": "a378fd08",
   "metadata": {
    "origin_pos": 32
   },
   "source": [
    "由于记录了`y`的计算结果，我们可以随后在`y`上调用反向传播，\n",
    "得到`y=x*x`关于的`x`的导数，即`2*x`。\n"
   ]
  },
  {
   "cell_type": "code",
   "execution_count": 9,
   "id": "d1ec4b2d",
   "metadata": {
    "execution": {
     "iopub.execute_input": "2022-07-31T00:52:26.249338Z",
     "iopub.status.busy": "2022-07-31T00:52:26.248638Z",
     "iopub.status.idle": "2022-07-31T00:52:26.266097Z",
     "shell.execute_reply": "2022-07-31T00:52:26.265408Z"
    },
    "origin_pos": 33,
    "tab": [
     "mxnet"
    ]
   },
   "outputs": [
    {
     "data": {
      "text/plain": [
       "array([ True,  True,  True,  True])"
      ]
     },
     "execution_count": 9,
     "metadata": {},
     "output_type": "execute_result"
    }
   ],
   "source": [
    "y.backward()\n",
    "x.grad == 2 * x"
   ]
  },
  {
   "cell_type": "markdown",
   "id": "f4f3c475",
   "metadata": {
    "origin_pos": 36
   },
   "source": [
    "## Python控制流的梯度计算\n",
    "\n",
    "使用自动微分的一个好处是：\n",
    "[**即使构建函数的计算图需要通过Python控制流（例如，条件、循环或任意函数调用），我们仍然可以计算得到的变量的梯度**]。\n",
    "在下面的代码中，`while`循环的迭代次数和`if`语句的结果都取决于输入`a`的值。\n"
   ]
  },
  {
   "cell_type": "code",
   "execution_count": 36,
   "id": "4c6caa87",
   "metadata": {
    "execution": {
     "iopub.execute_input": "2022-07-31T00:52:26.269341Z",
     "iopub.status.busy": "2022-07-31T00:52:26.268718Z",
     "iopub.status.idle": "2022-07-31T00:52:26.273049Z",
     "shell.execute_reply": "2022-07-31T00:52:26.272368Z"
    },
    "origin_pos": 37,
    "tab": [
     "mxnet"
    ]
   },
   "outputs": [],
   "source": [
    "def f(a):\n",
    "    b = a * 2\n",
    "    while np.linalg.norm(b) < 1000:\n",
    "        b = b * 2\n",
    "    if b.sum() > 0:\n",
    "        c = b\n",
    "    else:\n",
    "        c = 100 * b\n",
    "    return c"
   ]
  },
  {
   "cell_type": "markdown",
   "id": "ca22e0c8",
   "metadata": {
    "origin_pos": 40
   },
   "source": [
    "让我们计算梯度。\n"
   ]
  },
  {
   "cell_type": "code",
   "execution_count": 37,
   "id": "2f6e0ade",
   "metadata": {
    "execution": {
     "iopub.execute_input": "2022-07-31T00:52:26.275995Z",
     "iopub.status.busy": "2022-07-31T00:52:26.275513Z",
     "iopub.status.idle": "2022-07-31T00:52:26.303634Z",
     "shell.execute_reply": "2022-07-31T00:52:26.302803Z"
    },
    "origin_pos": 41,
    "tab": [
     "mxnet"
    ]
   },
   "outputs": [],
   "source": [
    "a = np.random.normal(size=(2,2))\n",
    "a.attach_grad()\n",
    "with autograd.record():\n",
    "    d = f(a)\n",
    "d.backward()"
   ]
  },
  {
   "cell_type": "markdown",
   "id": "9796ce7a",
   "metadata": {
    "origin_pos": 44
   },
   "source": [
    "我们现在可以分析上面定义的`f`函数。\n",
    "请注意，它在其输入`a`中是分段线性的。\n",
    "换言之，对于任何`a`，存在某个常量标量`k`，使得`f(a)=k*a`，其中`k`的值取决于输入`a`。\n",
    "因此，我们可以用`d/a`验证梯度是否正确。\n"
   ]
  },
  {
   "cell_type": "code",
   "execution_count": 38,
   "id": "9a35accc",
   "metadata": {
    "execution": {
     "iopub.execute_input": "2022-07-31T00:52:26.307008Z",
     "iopub.status.busy": "2022-07-31T00:52:26.306414Z",
     "iopub.status.idle": "2022-07-31T00:52:26.314205Z",
     "shell.execute_reply": "2022-07-31T00:52:26.313344Z"
    },
    "origin_pos": 45,
    "tab": [
     "mxnet"
    ]
   },
   "outputs": [
    {
     "data": {
      "text/plain": [
       "array([[ 0.54144025,  0.5793836 ],\n",
       "       [ 2.6785064 , -1.856082  ]])"
      ]
     },
     "execution_count": 38,
     "metadata": {},
     "output_type": "execute_result"
    }
   ],
   "source": [
    "a.grad == d / a\n",
    "a"
   ]
  },
  {
   "cell_type": "markdown",
   "id": "849a73f0",
   "metadata": {
    "origin_pos": 48
   },
   "source": [
    "## 小结\n",
    "\n",
    "* 深度学习框架可以自动计算导数：我们首先将梯度附加到想要对其计算偏导数的变量上。然后我们记录目标值的计算，执行它的反向传播函数，并访问得到的梯度。\n",
    "\n",
    "## 练习\n",
    "\n",
    "1. 为什么计算二阶导数比一阶导数的开销要更大？\n",
    "1. 在运行反向传播函数之后，立即再次运行它，看看会发生什么。\n",
    "1. 在控制流的例子中，我们计算`d`关于`a`的导数，如果我们将变量`a`更改为随机向量或矩阵，会发生什么？\n",
    "1. 重新设计一个求控制流梯度的例子，运行并分析结果。\n",
    "1. 使$f(x)=\\sin(x)$，绘制$f(x)$和$\\frac{df(x)}{dx}$的图像，其中后者不使用$f'(x)=\\cos(x)$。\n"
   ]
  },
  {
   "cell_type": "markdown",
   "id": "dff3b371",
   "metadata": {},
   "source": [
    "使用梯度下降求二次函数最小值"
   ]
  },
  {
   "cell_type": "code",
   "execution_count": 79,
   "id": "614d293e",
   "metadata": {},
   "outputs": [
    {
     "name": "stdout",
     "output_type": "stream",
     "text": [
      "[[3.75]]\n",
      "[[-0.5000001 ]\n",
      " [-0.5000001 ]\n",
      " [-0.5000001 ]\n",
      " [-0.49999994]\n",
      " [-0.5000001 ]]\n"
     ]
    }
   ],
   "source": [
    "x = np.random.normal(0, 1, size=(5, 1))\n",
    "lr = 0.1\n",
    "for _ in range(1000):\n",
    "    x.attach_grad()\n",
    "    with autograd.record():\n",
    "        y = np.dot(x.T, x) + np.sum(x) + 5\n",
    "    y.backward()\n",
    "    x = x - lr * x.grad\n",
    "print(y)\n",
    "print(x)"
   ]
  },
  {
   "cell_type": "markdown",
   "id": "ee69a1bf",
   "metadata": {},
   "source": [
    "绘制正弦函数及其导数的图像"
   ]
  },
  {
   "cell_type": "code",
   "execution_count": 84,
   "id": "7ca430e8",
   "metadata": {},
   "outputs": [
    {
     "data": {
      "image/png": "[encoded data removed]",
      "text/plain": [
       "<Figure size 432x288 with 1 Axes>"
      ]
     },
     "metadata": {
      "needs_background": "light"
     },
     "output_type": "display_data"
    }
   ],
   "source": [
    "%matplotlib inline\n",
    "import matplotlib.pyplot as plt\n",
    "x = np.linspace(0, 2*np.pi, 100)\n",
    "x.attach_grad()\n",
    "with autograd.record():\n",
    "    y = np.sin(x)\n",
    "y.backward()\n",
    "plt.plot(x, y)\n",
    "plt.plot(x, x.grad)\n",
    "plt.legend(['sin(x)', 'dsin(x)/dx'])\n",
    "plt.show()"
   ]
  },
  {
   "cell_type": "markdown",
   "id": "c70650f9",
   "metadata": {},
   "source": [
    "求二阶导?"
   ]
  },
  {
   "cell_type": "code",
   "execution_count": 108,
   "id": "5ef3a057",
   "metadata": {},
   "outputs": [
    {
     "name": "stdout",
     "output_type": "stream",
     "text": [
      "[[0.]\n",
      " [2.]\n",
      " [4.]\n",
      " [6.]]\n"
     ]
    }
   ],
   "source": [
    "x = np.arange(4).reshape(4, 1)\n",
    "x.attach_grad()\n",
    "Dy = lambda x : x.grad\n",
    "with autograd.record():\n",
    "    y = np.dot(x.T, x)\n",
    "    y = y.backward(retain_graph=True)\n",
    "    \n",
    "print(x.grad)\n"
   ]
  },
  {
   "cell_type": "markdown",
   "id": "5fb4ef85",
   "metadata": {
    "origin_pos": 49,
    "tab": [
     "mxnet"
    ]
   },
   "source": [
    "[Discussions](https://discuss.d2l.ai/t/1758)\n"
   ]
  }
 ],
 "metadata": {
  "kernelspec": {
   "display_name": "Python 3",
   "language": "python",
   "name": "python3"
  },
  "language_info": {
   "codemirror_mode": {
    "name": "ipython",
    "version": 3
   },
   "file_extension": ".py",
   "mimetype": "text/x-python",
   "name": "python",
   "nbconvert_exporter": "python",
   "pygments_lexer": "ipython3",
   "version": "3.6.13"
  }
 },
 "nbformat": 4,
 "nbformat_minor": 5
}
